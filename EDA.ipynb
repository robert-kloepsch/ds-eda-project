{
 "cells": [
  {
   "cell_type": "markdown",
   "metadata": {},
   "source": [
    "# Exploratory Data Analysis - King County House Prices"
   ]
  },
  {
   "cell_type": "markdown",
   "metadata": {},
   "source": [
    "### Description about the Project\n",
    "\n",
    "In this notebook I will take a look at a dataset that includes information about the King County housing market. Further I will try to assist Mr. Henson (imaginary Person) and his family to find a fitting home and to provide insights that will help them optimize their search strategy. \n",
    "\n",
    "I am provided with the following information about Mr. Henson:\n",
    "- 5 kids\n",
    "- no money\n",
    "- wants nice (social) neighborhood\n",
    "<br>"
   ]
  },
  {
   "cell_type": "markdown",
   "metadata": {},
   "source": [
    "At first I will import all required packages for the project. For visualization I will use the library plotly."
   ]
  },
  {
   "cell_type": "code",
   "execution_count": null,
   "metadata": {},
   "outputs": [],
   "source": [
    "import warnings\n",
    "\n",
    "warnings.filterwarnings(\"ignore\")\n",
    "\n",
    "import pandas as pd\n",
    "import numpy as np\n",
    "import plotly.express as px\n",
    "import geojson\n",
    "\n",
    "pd.set_option('display.float_format', lambda x: '%.3f' % x)"
   ]
  },
  {
   "cell_type": "markdown",
   "metadata": {},
   "source": [
    "<br>\n",
    "Here I will read the .csv file that includes the data I will investigate. I also change the date column into date format as well as add another column that only includes the month.\n",
    "<br>"
   ]
  },
  {
   "cell_type": "code",
   "execution_count": null,
   "metadata": {},
   "outputs": [],
   "source": [
    "# Read the Dataframe of King County house prices\n",
    "houses = pd.read_csv(\"data/King_County_House_prices_dataset.csv\")\n",
    "\n",
    "# Convert the date column into type date\n",
    "houses['date']= pd.to_datetime(houses['date'])\n",
    "\n",
    "# Add one column that only shows the month\n",
    "houses[\"month\"] = pd.DatetimeIndex(houses['date']).month"
   ]
  },
  {
   "cell_type": "markdown",
   "metadata": {},
   "source": [
    "<br>\n",
    "I will now have a look and go through the data to think about possible approaches to find interesting insights. As the meaning of the column names are not immediately clear, here is a quick overview of the meanings:\n",
    "\n",
    "- id - unique identified for a house\n",
    "- dateDate - house was sold\n",
    "- pricePrice - is prediction target\n",
    "- bedroomsNumber - # of bedrooms\n",
    "- bathroomsNumber - # of bathrooms\n",
    "- sqft_livingsquare - footage of the home\n",
    "- sqft_lotsquare - footage of the lot\n",
    "- floorsTotal - floors (levels) in house\n",
    "- waterfront - House which has a view to a waterfront\n",
    "- view - Has been viewed\n",
    "- condition - How good the condition is ( Overall )\n",
    "- grade - overall grade given to the housing unit, based on King County grading system\n",
    "- sqft_above - square footage of house apart from basement\n",
    "- sqft_basement - square footage of the basement\n",
    "- yr_built - Built Year\n",
    "- yr_renovated - Year when house was renovated\n",
    "- zipcode - zip\n",
    "- lat - Latitude coordinate\n",
    "- long - Longitude coordinate\n",
    "- sqft_living15 - The square footage of interior housing living space for the nearest 15 neighbors\n",
    "- sqft_lot15 - The square footage of the land lots of the nearest 15 neighbors\n",
    "<br>"
   ]
  },
  {
   "cell_type": "markdown",
   "metadata": {},
   "source": [
    "After looking through the dataset and knowing that the Henson's are 7 people, I want to understand how many houses fitting the bedroom requirements are out there. I assume that at least 4 bedrooms are needed. \n",
    "I will now plot the available houses by the amount of bedrooms."
   ]
  },
  {
   "cell_type": "code",
   "execution_count": null,
   "metadata": {},
   "outputs": [],
   "source": [
    "# There are some outliers, such as houses with 33 bedrooms which I will drop from the list. \n",
    "# For the first plot I will present my data from 0 - 10 bedrooms\n",
    "houses_by_bedroom_2 = houses.drop(houses[houses[\"bedrooms\"] > 10].index)\n",
    "\n",
    "# Using px.histogram with \"bedrooms\" on the x-axis to automatically let plotly count the amounts on the y-axis\n",
    "fig = px.histogram(houses_by_bedroom_2, x=\"bedrooms\", text_auto=True, title=\"<b>Amount of available houses by amount of bedrooms\")\n",
    "fig.update_layout(\n",
    "        xaxis=dict(\n",
    "                title_text=\"<b>Bedrooms\",\n",
    "                tickvals=[1, 2, 3, 4, 5, 6, 7, 8, 9, 10],\n",
    "                titlefont=dict(size=14)),\n",
    "        yaxis=dict(\n",
    "                title_text=\"<b>Count\",\n",
    "                titlefont=dict(size=14)),\n",
    "        yaxis_range=[0,12000],\n",
    "        bargap=0.1, \n",
    "        width=1000, height=400)\n",
    "fig.update_traces(\n",
    "        textfont_size=12, textangle=0, textposition=\"outside\", cliponaxis=False)\n",
    "fig.show()"
   ]
  },
  {
   "cell_type": "markdown",
   "metadata": {},
   "source": [
    "<img src='images/1.png'>"
   ]
  },
  {
   "cell_type": "markdown",
   "metadata": {},
   "source": [
    "The histogram shows us, that there is a very limited number for houses with more then 6 bedrooms. I recommend to look for houses starting from 4 bedrooms. As Mr. Henson has no money there is no room for any luxury and it may be needed to take houses with smaller living areas as well as bedrooms. \n",
    "<br>"
   ]
  },
  {
   "cell_type": "markdown",
   "metadata": {},
   "source": [
    "Next I want to understand, if the price is reflecting the amount of bedrooms properly. With other words: Do you get what you pay for in terms of bedrooms?"
   ]
  },
  {
   "cell_type": "code",
   "execution_count": null,
   "metadata": {},
   "outputs": [],
   "source": [
    "# Get the average price grouped by the amount of bedrooms\n",
    "houses_bedrooms = houses.groupby(\"bedrooms\")[\"price\"].mean().reset_index()\n",
    "\n",
    "# Count the appearances of each bedroom type\n",
    "houses_bedrooms_count = houses.groupby(\"bedrooms\")[\"id\"].count().reset_index()\n",
    "\n",
    "# Combine both lists together with pd.conact\n",
    "houses_bedrooms_incl_count = pd.concat([houses_bedrooms.set_index(\"bedrooms\"), \n",
    "        houses_bedrooms_count.set_index(\"bedrooms\")], axis=1).reset_index()\n",
    "\n",
    "# In order to show only relevant numbers, I remove all rows that have less then 100 observations \n",
    "houses_bedrooms_incl_count = houses_bedrooms_incl_count.drop(houses_bedrooms_incl_count[houses_bedrooms_incl_count[\"id\"] < 100].index)\n",
    "\n",
    "# Plot results with px.scatter and add a trendline to visualize correlation\n",
    "fig_2 = px.scatter(houses_bedrooms_incl_count, x=\"bedrooms\", y=\"price\", text=\"id\", trendline=\"ols\", \n",
    "        title=\"<b>Price per amount of bedrooms\")\n",
    "fig_2.update_layout(\n",
    "        xaxis=dict(\n",
    "                title_text=\"<b>Bedrooms\",\n",
    "                titlefont=dict(size=14)),\n",
    "        yaxis=dict(\n",
    "                title_text=\"<b>Price\",\n",
    "                titlefont=dict(size=14)),\n",
    "                width=1000, height=500)\n",
    "fig_2.update_traces(\n",
    "        marker=dict(\n",
    "                size=16, line=dict(width=1, color='black')), \n",
    "        textposition=\"top left\")\n",
    "fig_2.show()"
   ]
  },
  {
   "cell_type": "markdown",
   "metadata": {},
   "source": [
    "<img src='images/2.png'>"
   ]
  },
  {
   "cell_type": "markdown",
   "metadata": {},
   "source": [
    "The answer seems to be \"yes\". We can see that there is a strong correlation between bedrooms and house price. Therefore Mr. Hansen does not need to look out for a specific amount of bedrooms.\n",
    "Note: The reason that there are no houses in the graph with 7 bedrooms or more is that all these houses have less then 100 observations and were ignored.\n",
    "<br>"
   ]
  },
  {
   "cell_type": "markdown",
   "metadata": {},
   "source": [
    "Now that we know about bedrooms I want to understand a very similar fact with comparing the living area to the price. "
   ]
  },
  {
   "cell_type": "code",
   "execution_count": null,
   "metadata": {},
   "outputs": [],
   "source": [
    "# Get the average living area grouped by the amount of bedrooms\n",
    "houses_living = houses.groupby(\"bedrooms\")[\"sqft_living\"].mean().reset_index()\n",
    "\n",
    "# Count the appearances of each bedroom type\n",
    "houses_living_count = houses.groupby(\"bedrooms\")[\"id\"].count().reset_index()\n",
    "\n",
    "# Combine both lists together with pd.conact\n",
    "houses_living_incl_count = pd.concat([houses_living.set_index(\"bedrooms\"), \n",
    "        houses_living_count.set_index(\"bedrooms\")], axis=1).reset_index()\n",
    "\n",
    "# In order to show only relevant numbers, I remove all rows that have less then 100 observations \n",
    "houses_living_incl_count = houses_living_incl_count.drop(houses_living_incl_count[houses_living_incl_count[\"id\"] < 100].index)\n",
    "\n",
    "# Plot results with px.scatter and add a trendline to visualize correlation\n",
    "fig_3 = px.scatter(houses_living_incl_count, x=\"bedrooms\", y=\"sqft_living\",\n",
    "        text=\"id\", title=\"<b>Average living space by amount of Bedrooms\", trendline=\"ols\")\n",
    "fig_3.update_layout(\n",
    "        xaxis=dict(\n",
    "        title_text=\"<b>Bedrooms\",\n",
    "        titlefont=dict(size=14)),\n",
    "        yaxis=dict(\n",
    "        title_text=\"<b>Living area\",\n",
    "        titlefont=dict(size=14)),\n",
    "        width=1000, height=500)\n",
    "fig_3.update_traces(\n",
    "        marker=dict(size=16, line=dict(width=1, color='black')), \n",
    "        textposition=\"bottom left\")\n",
    "fig_3.show()"
   ]
  },
  {
   "cell_type": "markdown",
   "metadata": {},
   "source": [
    "<img src='images/3.png'>"
   ]
  },
  {
   "cell_type": "markdown",
   "metadata": {},
   "source": [
    "Similar to the graph before, there is also a strong correlation between bedrooms and living area. Nevertheless we can see that 4 and 5 bedroom houses tend to have a slighlty better living area relation then 6 bedroom houses. This is a helpful information because there are not many 6 bedrooms houses available and its good to know that 4 and 5 bedroom houses tend to have a better relation - even though its not dramatic.\n",
    "<br>"
   ]
  },
  {
   "cell_type": "markdown",
   "metadata": {},
   "source": [
    "Next I am focussing on the time and want to understand, if I can find a recommendation on when to buy. I plan on calculation the average price per month for all houses with more then 4 bedrooms."
   ]
  },
  {
   "cell_type": "code",
   "execution_count": null,
   "metadata": {},
   "outputs": [],
   "source": [
    "# Simple query to get all houses with 4 or more bedrooms\n",
    "houses_4_bedrooms_plus = houses.query(\"bedrooms >= 4\")\n",
    "\n",
    "# Next I group the list by month and get the average price for each month\n",
    "houses_avg_per_month = houses_4_bedrooms_plus.groupby(\"month\")[\"price\"].mean().reset_index()\n",
    "\n",
    "# In this step the count of each house sold will be calculated\n",
    "houses_sold_per_month = houses_4_bedrooms_plus.groupby(\"month\")[\"id\"].count().reset_index()\n",
    "\n",
    "# Combining both lists with pd.concat so we have avg price and counts per month\n",
    "houses_avg_price_and_count_per_month = pd.concat([houses_sold_per_month.set_index(\"month\"), \n",
    "        houses_avg_per_month.set_index(\"month\")], axis=1).reset_index()\n",
    "\n",
    "# Show a scatter plot - Sizes of dots show the counts and the color indicates about the avg prices.\n",
    "fig_4 = px.scatter(houses_avg_price_and_count_per_month, x=\"month\", y=\"price\", color=\"id\", size=\"id\", \n",
    "        title=\"<b>4+ bedrooms: Average house prices per month <br><sup>Color indicates amount of houses sold</sup>\")\n",
    "fig_4.update_layout(\n",
    "        xaxis=dict(\n",
    "                title_text=\"<b>Month\",\n",
    "                tickmode = 'array',\n",
    "                tickvals = [1, 2, 3, 4, 5, 6, 7, 8, 9, 10, 11, 12],\n",
    "                ticktext = ['Jan', 'Feb', 'Mar', 'Apr', 'May', 'Jun', \"Jul\", \"Aug\", \"Sep\", \"Oct\", \"Nov\", \"Dec\"],\n",
    "                titlefont=dict(size=14)),\n",
    "        yaxis=dict(\n",
    "                title_text=\"<b>Price\",\n",
    "                titlefont=dict(size=14)),\n",
    "                width=1000, height=500,\n",
    "                yaxis_range=[550000,800000], \n",
    "        coloraxis_colorbar=dict(\n",
    "                title=\"<b>Amount <br><sup>Houses sold</sup>\"))\n",
    "fig_4.show()"
   ]
  },
  {
   "cell_type": "markdown",
   "metadata": {},
   "source": [
    "<img src='images/4.png'>"
   ]
  },
  {
   "cell_type": "markdown",
   "metadata": {},
   "source": [
    "With this nice visualization we can see that in February the avg price for houses with 4+ bedrooms was the lowest and in May it was the highest. We still have to take the count of houses sold in consideration and understand, that in February fewer houses have been sold than in May. Nevertheless this graph is a nice indicator that chances may be higher to find a good offer in the lower avg months.\n",
    "<br>"
   ]
  },
  {
   "cell_type": "markdown",
   "metadata": {},
   "source": [
    "Last I want to find out about the distribution of prices and amounts of houses sold geographically. As the dataset includes the zipcodes I plan to visualize the zipcodes area. For this I have included a zipcode geojson file that will be needed to match the locations. As in the above plots I will still only focus on houses with 4 or more bedrooms."
   ]
  },
  {
   "cell_type": "code",
   "execution_count": null,
   "metadata": {},
   "outputs": [],
   "source": [
    "# Preparing DF for geo plot. Getting avg prices per zipcode as well as the counts of houses sold per zipcode. \n",
    "zip_codes_price_avg = houses_4_bedrooms_plus.groupby(\"zipcode\")[\"price\"].mean().reset_index()\n",
    "zip_codes_counts = houses_4_bedrooms_plus.groupby(\"zipcode\")[\"id\"].count().reset_index()\n",
    "\n",
    "# Join the two tables with concat\n",
    "zip_codes = pd.concat([zip_codes_price_avg.set_index(\"zipcode\"), zip_codes_counts.set_index(\"zipcode\")], axis=1).reset_index()\n",
    "\n",
    "# Load geo json file for King County area\n",
    "with open (\"data/Zip_Codes.geojson\") as f:\n",
    "    gj = geojson.load(f)\n",
    "\n",
    "# adding the zipcodes as \"id\" so plotly can access the data properly. Geo json data is then stored in a new variable called \"gj\"\n",
    "for i in range(len(gj[\"features\"])):\n",
    "    gj[\"features\"][i][\"id\"] = gj[\"features\"][i][\"properties\"][\"ZIPCODE\"]"
   ]
  },
  {
   "cell_type": "code",
   "execution_count": null,
   "metadata": {},
   "outputs": [],
   "source": [
    "# Plotting the average prices per Zipcode using \"px.choropleth_mapbox\". Locations (\"zipcode\") are matched with geojson file (\"gj\"). \n",
    "# Color is added to visualize the avg prices and the map is centered at Seattles lat and lon coordinates.\n",
    "\n",
    "fig_geo = px.choropleth_mapbox(zip_codes, geojson=gj, locations=\"zipcode\", mapbox_style=\"carto-positron\", color=\"price\", \n",
    "        center={'lat': 47.453348, 'lon': -122.036926}, color_continuous_scale=\"deep\")\n",
    "fig_geo.update_layout(\n",
    "        coloraxis_colorbar=dict(\n",
    "                title=\"<b>Avg Price <br><sup>per Zipcode</sup>\",\n",
    "                lenmode=\"pixels\", len=300),\n",
    "        width=1000, height=500,\n",
    "        margin={'r':0,'t':0,'l':0,'b':0})\n",
    "fig_geo.show()"
   ]
  },
  {
   "cell_type": "markdown",
   "metadata": {},
   "source": [
    "<img src='images/5.png'>"
   ]
  },
  {
   "cell_type": "markdown",
   "metadata": {},
   "source": [
    "We can see that the average prices are highest in the center and the more you move away from it the lower the prices get. This is not a huge surprise but still good to know. A very helpful information though is that the prices in the south tend to be lower then in the north.\n",
    "<br>"
   ]
  },
  {
   "cell_type": "markdown",
   "metadata": {},
   "source": [
    "Next I want to show not the average prices but the average amount of houses available per zipcode."
   ]
  },
  {
   "cell_type": "code",
   "execution_count": null,
   "metadata": {},
   "outputs": [],
   "source": [
    "# Everything is the same as above just the color was changed to \"id\" in order to represent the amount of houses available.\n",
    "\n",
    "fig_geo_2 = px.choropleth_mapbox(zip_codes, geojson=gj, locations=\"zipcode\", mapbox_style=\"carto-positron\",\n",
    "        color=\"id\", center={'lat': 47.453348, 'lon': -122.036926}, color_continuous_scale=\"deep\")\n",
    "fig_geo_2.update_layout(margin={'r':0,'t':0,'l':0,'b':0})\n",
    "fig_geo_2.update_layout(\n",
    "        coloraxis_colorbar=dict(\n",
    "                title=\"<b>Amount <br><sup>Houses sold</sup>\",\n",
    "                lenmode=\"pixels\", len=300),\n",
    "        width=1000, height=500)\n",
    "fig_geo_2.show()"
   ]
  },
  {
   "cell_type": "markdown",
   "metadata": {},
   "source": [
    "<img src='images/6.png'>"
   ]
  },
  {
   "cell_type": "markdown",
   "metadata": {},
   "source": [
    "We now have a nice overview on how many houses are available in which area.\n",
    "<br>"
   ]
  },
  {
   "cell_type": "markdown",
   "metadata": {},
   "source": [
    "Finally I want to somehow combine the two geo plots to have a nice overview where cheap houses are available and a lot of houses are offered. For this I will only display zipcodes where the avg price is in the lower half of all avg prices and zipcodes where the avg amount of houses offered is in the higher half of all amounts of houses offered. This should give us a decent idea on where the most lower prices houses are available."
   ]
  },
  {
   "cell_type": "code",
   "execution_count": null,
   "metadata": {},
   "outputs": [],
   "source": [
    "# Getting the lower half of all avg prices and lower half of all avg counts\n",
    "prices_mean_half = houses_4_bedrooms_plus.price.mean() / 2\n",
    "count_mean_half = zip_codes_counts.id.mean() / 2\n",
    "\n",
    "# Adjust zip_code df with the newly created filters by doing a simple query\n",
    "zip_codes_filtered = zip_codes.query(\"price < @prices_mean_half and id > @count_mean_half\")\n",
    "\n",
    "fig_geo_3 = px.choropleth_mapbox(zip_codes_filtered, geojson=gj, locations=\"zipcode\", mapbox_style=\"carto-positron\",\n",
    "                center={'lat': 47.353348, 'lon': -122.436926})\n",
    "fig_geo_3.update_layout(\n",
    "        width=600, height=400,\n",
    "        margin={'r':0,'t':0,'l':0,'b':0})\n",
    "fig_geo_3.show()"
   ]
  },
  {
   "cell_type": "markdown",
   "metadata": {},
   "source": [
    "<img src='images/7.png'>"
   ]
  },
  {
   "cell_type": "markdown",
   "metadata": {},
   "source": [
    "With this final geo plot we have a very nice breakdown on where we find a decent amount of 4+ bedroom houses at low prices. In these areas we should have the best chances i.e. highest probability to find a matching house for Mr. Henson and his family.\n",
    "<br>"
   ]
  },
  {
   "cell_type": "markdown",
   "metadata": {},
   "source": [
    "### Recommendation and conclusion of the project:\n",
    "<br>\n",
    "\n",
    "- Mr. Henson and his family should start looking for houses with 4 bedrooms or more, mainly because houses with more bedrooms are very limited and Mr. Henson has no money\n",
    "- Looking at the data for bedroom/price and living area/price the relation seems to be quite fair in this area. Due to slight differences the chances to get most for your money in terms of bedroom/living area are a bit higher with 4 and 5 bedroom houses\n",
    "- In terms of timing it is definitely recommended to check out the market in February as we have seen that avg prices are the lowest.\n",
    "- Regarding the location we created a very nice plot that shows where many houses at low prices are available. In these areas chances for a good offer are the highest."
   ]
  }
 ],
 "metadata": {
  "interpreter": {
   "hash": "88ee77f75fc5d726c7a1c296d34ca3e5204b6bcc3281f316b6755c8d7daa512c"
  },
  "kernelspec": {
   "display_name": "Python 3.9.8 ('.venv': venv)",
   "language": "python",
   "name": "python3"
  },
  "language_info": {
   "codemirror_mode": {
    "name": "ipython",
    "version": 3
   },
   "file_extension": ".py",
   "mimetype": "text/x-python",
   "name": "python",
   "nbconvert_exporter": "python",
   "pygments_lexer": "ipython3",
   "version": "3.9.8"
  },
  "orig_nbformat": 4
 },
 "nbformat": 4,
 "nbformat_minor": 2
}
